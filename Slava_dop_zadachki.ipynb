{
 "cells": [
  {
   "cell_type": "markdown",
   "metadata": {},
   "source": [
    "# ЗАДАЧА 2"
   ]
  },
  {
   "cell_type": "code",
   "execution_count": null,
   "metadata": {
    "collapsed": true
   },
   "outputs": [],
   "source": [
    "def fun(n):\n",
    "    lis = []\n",
    "    for i in range(1, len(n)//2 + 1):\n",
    "        lis.append((n[i-1], n[-i]))\n",
    "    return lis\n",
    "fun ([1,2,3,4,5,6])"
   ]
  },
  {
   "cell_type": "markdown",
   "metadata": {},
   "source": [
    "# ЗАДАЧА 5"
   ]
  },
  {
   "cell_type": "code",
   "execution_count": null,
   "metadata": {
    "collapsed": true
   },
   "outputs": [],
   "source": [
    "def fun(list1,list2):\n",
    "    list1 = list(set(list1))\n",
    "    list2 = list(set(list2))\n",
    "    new_list = []\n",
    "    for i in range (0,len(list2)):\n",
    "        if list2[i] in list1:\n",
    "            new_list.append(list2[i])\n",
    "    return new_list\n",
    "\n",
    "fun ([1, 2, 3, 4, 5], [3, 4, 5, 6, 7, 8, 4])"
   ]
  },
  {
   "cell_type": "markdown",
   "metadata": {},
   "source": [
    "# ЗАДАЧА 1"
   ]
  },
  {
   "cell_type": "code",
   "execution_count": 4,
   "metadata": {
    "collapsed": false
   },
   "outputs": [
    {
     "name": "stdout",
     "output_type": "stream",
     "text": [
      "b 2, a 4, c 4, 1 1, u 2\n"
     ]
    }
   ],
   "source": [
    "def fun(n):\n",
    "    new_n = list(set(n))\n",
    "    lis = []\n",
    "    lis1 = []\n",
    "    count = 1\n",
    "    for i in range(len(new_n)): \n",
    "        lis.append(new_n[i])\n",
    "        lis.append(str(n.count(new_n[i])))\n",
    "    for i in range(0, len(lis), 2):\n",
    "        lis1.append(lis[i]+' '+lis[i+1])\n",
    "    print(', '.join(lis1))\n"
   ]
  },
  {
   "cell_type": "markdown",
   "metadata": {},
   "source": [
    "# ЗАДАЧА 3"
   ]
  },
  {
   "cell_type": "code",
   "execution_count": 9,
   "metadata": {
    "collapsed": false
   },
   "outputs": [
    {
     "data": {
      "text/plain": [
       "['C3', 'B2', 'A1']"
      ]
     },
     "execution_count": 9,
     "metadata": {},
     "output_type": "execute_result"
    }
   ],
   "source": [
    "def fun(file_name):\n",
    "    with open (file_name) as lines:\n",
    "        str_ = []\n",
    "        for line in lines:\n",
    "            str_.append(line.strip())\n",
    "            \n",
    "        return str_[::-1]\n",
    "    \n",
    "fun ('/Users/vvpetrov/Desktop/Python_Bio/z.txt')"
   ]
  },
  {
   "cell_type": "markdown",
   "metadata": {},
   "source": [
    "# ЗАДАЧА 4"
   ]
  },
  {
   "cell_type": "code",
   "execution_count": null,
   "metadata": {
    "collapsed": true
   },
   "outputs": [],
   "source": [
    "def fun(size):\n",
    "    lis = []\n",
    "    for i in range(2*size+1):\n",
    "        lis.append(None)\n",
    "    for i in range(2*size+1):\n",
    "        if i % 2 == 0:\n",
    "            lis[i] = ' ---'*size+' '\n",
    "        else:\n",
    "            lis[i] = '|   '*size+'|'\n",
    "    for i in lis:\n",
    "        print(i)"
   ]
  },
  {
   "cell_type": "code",
   "execution_count": null,
   "metadata": {
    "collapsed": true
   },
   "outputs": [],
   "source": []
  }
 ],
 "metadata": {
  "kernelspec": {
   "display_name": "Python 3",
   "language": "python",
   "name": "python3"
  },
  "language_info": {
   "codemirror_mode": {
    "name": "ipython",
    "version": 3
   },
   "file_extension": ".py",
   "mimetype": "text/x-python",
   "name": "python",
   "nbconvert_exporter": "python",
   "pygments_lexer": "ipython3",
   "version": "3.6.0"
  }
 },
 "nbformat": 4,
 "nbformat_minor": 2
}
