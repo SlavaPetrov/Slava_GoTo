{
 "cells": [
  {
   "cell_type": "code",
   "execution_count": 46,
   "metadata": {
    "collapsed": false
   },
   "outputs": [
    {
     "name": "stdout",
     "output_type": "stream",
     "text": [
      "a, a, b, b, b, c, c, c, c, g, g, g, g, g\n"
     ]
    }
   ],
   "source": [
    "def sor(s):\n",
    "    t = []\n",
    "    k = s.split(', ')\n",
    "    for i in k:\n",
    "        k1 = i.split(' ')\n",
    "        t += [k1[0]] * int(k1[1])\n",
    "    t.sort()\n",
    "    print(', '.join(t)) \n",
    "sor (input())    "
   ]
  },
  {
   "cell_type": "code",
   "execution_count": 44,
   "metadata": {
    "collapsed": false
   },
   "outputs": [],
   "source": []
  },
  {
   "cell_type": "code",
   "execution_count": null,
   "metadata": {
    "collapsed": true
   },
   "outputs": [],
   "source": []
  }
 ],
 "metadata": {
  "kernelspec": {
   "display_name": "Python 3",
   "language": "python",
   "name": "python3"
  },
  "language_info": {
   "codemirror_mode": {
    "name": "ipython",
    "version": 3
   },
   "file_extension": ".py",
   "mimetype": "text/x-python",
   "name": "python",
   "nbconvert_exporter": "python",
   "pygments_lexer": "ipython3",
   "version": "3.6.0"
  }
 },
 "nbformat": 4,
 "nbformat_minor": 2
}
