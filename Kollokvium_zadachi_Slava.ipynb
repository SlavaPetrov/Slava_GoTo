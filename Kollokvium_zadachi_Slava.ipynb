{
 "cells": [
  {
   "cell_type": "markdown",
   "metadata": {
    "collapsed": true
   },
   "source": [
    "# ЗАДАЧА 1 "
   ]
  },
  {
   "cell_type": "code",
   "execution_count": 8,
   "metadata": {
    "collapsed": false
   },
   "outputs": [
    {
     "data": {
      "text/plain": [
       "8"
      ]
     },
     "execution_count": 8,
     "metadata": {},
     "output_type": "execute_result"
    }
   ],
   "source": [
    "def fun(n):\n",
    "    k = 0\n",
    "    for i in range(1, len(n)-1):\n",
    "        if n[i-1] == n[i]:\n",
    "            k +=1\n",
    "        else:\n",
    "            k = 0\n",
    "    return (k + 1)\n",
    "fun ([1, 2, 3, 4, 5, 5, 5, 2, 3, 3, 3, 3, 3, 3, 3, 3, 0])\n"
   ]
  },
  {
   "cell_type": "markdown",
   "metadata": {},
   "source": [
    "# ЗАДАЧА 2"
   ]
  },
  {
   "cell_type": "code",
   "execution_count": 40,
   "metadata": {
    "collapsed": false
   },
   "outputs": [
    {
     "data": {
      "text/plain": [
       "'abc'"
      ]
     },
     "execution_count": 40,
     "metadata": {},
     "output_type": "execute_result"
    }
   ],
   "source": [
    "def fun(n):\n",
    "    slovar = {}\n",
    "    line = n.split(' ')\n",
    "    for words in line:\n",
    "        slovar[words] = slovar.get(words, 0) + 1\n",
    "    max_col = max(slovar.values())\n",
    "    most = [mini for mini, i in slovar.items() if i == max_col]\n",
    "    return (min(most))\n",
    "fun ('abc def efg gcb klm')\n"
   ]
  },
  {
   "cell_type": "markdown",
   "metadata": {},
   "source": [
    "# ЗАДАЧА 3"
   ]
  },
  {
   "cell_type": "code",
   "execution_count": 41,
   "metadata": {
    "collapsed": false
   },
   "outputs": [
    {
     "data": {
      "text/plain": [
       "[[1, 3, 2], [4, 6, 5]]"
      ]
     },
     "execution_count": 41,
     "metadata": {},
     "output_type": "execute_result"
    }
   ],
   "source": [
    "def swap_columns(a, i, j):\n",
    "    for k in range(len(a)):\n",
    "        a[k][i], a[k][j] = a[k][j], a[k][i]\n",
    "    return (a)    \n",
    "swap_columns ([[1,2,3],[4,5,6]], 2, 1)        "
   ]
  },
  {
   "cell_type": "markdown",
   "metadata": {},
   "source": []
  },
  {
   "cell_type": "code",
   "execution_count": null,
   "metadata": {
    "collapsed": true
   },
   "outputs": [],
   "source": []
  }
 ],
 "metadata": {
  "kernelspec": {
   "display_name": "Python 3",
   "language": "python",
   "name": "python3"
  },
  "language_info": {
   "codemirror_mode": {
    "name": "ipython",
    "version": 3
   },
   "file_extension": ".py",
   "mimetype": "text/x-python",
   "name": "python",
   "nbconvert_exporter": "python",
   "pygments_lexer": "ipython3",
   "version": "3.6.0"
  }
 },
 "nbformat": 4,
 "nbformat_minor": 2
}
