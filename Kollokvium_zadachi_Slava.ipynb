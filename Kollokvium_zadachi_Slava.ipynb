{
 "cells": [
  {
   "cell_type": "markdown",
   "metadata": {
    "collapsed": true
   },
   "source": [
    "# ЗАДАЧИ С КОМПЬЮТЕРА "
   ]
  },
  {
   "cell_type": "markdown",
   "metadata": {},
   "source": [
    "# ЗАДАЧА 1 "
   ]
  },
  {
   "cell_type": "code",
   "execution_count": null,
   "metadata": {
    "collapsed": false
   },
   "outputs": [],
   "source": [
    "def fun(lis):\n",
    "    maxi = 0\n",
    "    k = 1\n",
    "    for i in range(1, len(lis)):\n",
    "        if lis[i-1] == lis[i]:\n",
    "            k += 1  \n",
    "        elif k > maxi:\n",
    "            maxi = k\n",
    "            k = 1\n",
    "        else:\n",
    "            k = 1\n",
    "    return maxi\n"
   ]
  },
  {
   "cell_type": "code",
   "execution_count": null,
   "metadata": {
    "collapsed": true
   },
   "outputs": [],
   "source": []
  },
  {
   "cell_type": "markdown",
   "metadata": {},
   "source": [
    "# ЗАДАЧА 2"
   ]
  },
  {
   "cell_type": "code",
   "execution_count": 40,
   "metadata": {
    "collapsed": false
   },
   "outputs": [
    {
     "data": {
      "text/plain": [
       "'abc'"
      ]
     },
     "execution_count": 40,
     "metadata": {},
     "output_type": "execute_result"
    }
   ],
   "source": [
    "def fun(n):\n",
    "    slovar = {}\n",
    "    line = n.split(' ')\n",
    "    for words in line:\n",
    "        slovar[words] = slovar.get(words, 0) + 1\n",
    "    max_col = max(slovar.values())\n",
    "    most = [mini for mini, i in slovar.items() if i == max_col]\n",
    "    return (min(most))\n",
    "fun ('abc def efg gcb klm')\n"
   ]
  },
  {
   "cell_type": "markdown",
   "metadata": {},
   "source": [
    "# ЗАДАЧА 3"
   ]
  },
  {
   "cell_type": "code",
   "execution_count": 41,
   "metadata": {
    "collapsed": false
   },
   "outputs": [
    {
     "data": {
      "text/plain": [
       "[[1, 3, 2], [4, 6, 5]]"
      ]
     },
     "execution_count": 41,
     "metadata": {},
     "output_type": "execute_result"
    }
   ],
   "source": [
    "def swap_columns(a, i, j):\n",
    "    for k in range(len(a)):\n",
    "        a[k][i], a[k][j] = a[k][j], a[k][i]\n",
    "    return (a)    \n",
    "swap_columns ([[1,2,3],[4,5,6]], 2, 1)        "
   ]
  },
  {
   "cell_type": "markdown",
   "metadata": {},
   "source": [
    "# ЗАДАЧА 4"
   ]
  },
  {
   "cell_type": "code",
   "execution_count": null,
   "metadata": {
    "collapsed": true
   },
   "outputs": [],
   "source": [
    "def fun(alph):\n",
    "    alph = list (alph)\n",
    "    vowels = 'aeiouy'\n",
    "    Consonants = 'bfjpvz'\n",
    "    alphabet = 'abcdefghjiklmnopqrstuvwxyz'\n",
    "    for i in range(0,len(alph)):\n",
    "        if alph[i] in vowels:\n",
    "            alph[i] =  Consonants[vowels.find(alph[i])]\n",
    "        elif alph[i] in alphabet:\n",
    "            alph[i] = alphabet.find(alph[i])\n",
    "    return alph  "
   ]
  },
  {
   "cell_type": "markdown",
   "metadata": {},
   "source": [
    "# ЗАДАЧА 5 "
   ]
  },
  {
   "cell_type": "code",
   "execution_count": null,
   "metadata": {
    "collapsed": true
   },
   "outputs": [],
   "source": []
  },
  {
   "cell_type": "code",
   "execution_count": null,
   "metadata": {
    "collapsed": true
   },
   "outputs": [],
   "source": []
  },
  {
   "cell_type": "code",
   "execution_count": null,
   "metadata": {
    "collapsed": true
   },
   "outputs": [],
   "source": []
  },
  {
   "cell_type": "markdown",
   "metadata": {},
   "source": [
    "# ЗАДАЧИ С ЛИСТОЧКА"
   ]
  },
  {
   "cell_type": "markdown",
   "metadata": {
    "collapsed": true
   },
   "source": [
    "# ЗАДАЧА 5"
   ]
  },
  {
   "cell_type": "code",
   "execution_count": null,
   "metadata": {
    "collapsed": true
   },
   "outputs": [],
   "source": []
  },
  {
   "cell_type": "code",
   "execution_count": null,
   "metadata": {
    "collapsed": true
   },
   "outputs": [],
   "source": [
    "from pprint import pprint\n",
    "def matr(n):\n",
    "    a = []\n",
    "    for i in range (0,n):\n",
    "        b = []\n",
    "        for j in range (0,n):\n",
    "            b.append(0)\n",
    "        a.append(b)    \n",
    "\n",
    "    for i in range (0,n):\n",
    "        for j in range (0,n):\n",
    "            a[i][i] = 1\n",
    "\n",
    "    pprint (a)              \n",
    "    \n",
    "matr (5)  "
   ]
  },
  {
   "cell_type": "markdown",
   "metadata": {},
   "source": [
    "# ЗАДАЧА 4"
   ]
  },
  {
   "cell_type": "code",
   "execution_count": null,
   "metadata": {
    "collapsed": true
   },
   "outputs": [],
   "source": [
    "def fib(n):\n",
    "    rabbits = [0,1]\n",
    "    for k in range (2,n+1):\n",
    "        rabbits.append(rabbits[k-1]+rabbits[k-2])\n",
    "    return (rabbits[len(rabbits)-1])\n",
    "\n",
    "fib (10)"
   ]
  },
  {
   "cell_type": "markdown",
   "metadata": {},
   "source": [
    "# ЗАДАЧА 1"
   ]
  },
  {
   "cell_type": "code",
   "execution_count": null,
   "metadata": {
    "collapsed": true
   },
   "outputs": [],
   "source": [
    "def fun (n):\n",
    "    s = 0\n",
    "    if n == 2:\n",
    "        return (2-1) * 2\n",
    "    elif n > 2:\n",
    "        for i in range (2,n+1):\n",
    "            s += (i-1) * i\n",
    "    return s"
   ]
  },
  {
   "cell_type": "code",
   "execution_count": null,
   "metadata": {
    "collapsed": true
   },
   "outputs": [],
   "source": []
  }
 ],
 "metadata": {
  "kernelspec": {
   "display_name": "Python 3",
   "language": "python",
   "name": "python3"
  },
  "language_info": {
   "codemirror_mode": {
    "name": "ipython",
    "version": 3
   },
   "file_extension": ".py",
   "mimetype": "text/x-python",
   "name": "python",
   "nbconvert_exporter": "python",
   "pygments_lexer": "ipython3",
   "version": "3.6.0"
  }
 },
 "nbformat": 4,
 "nbformat_minor": 2
}
