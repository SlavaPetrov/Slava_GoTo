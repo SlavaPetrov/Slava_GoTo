{
 "cells": [
  {
   "cell_type": "code",
   "execution_count": null,
   "metadata": {
    "collapsed": true
   },
   "outputs": [],
   "source": [
    "def fib(n):\n",
    "    lis=[0,1]\n",
    "    m = int(input())\n",
    "    if m >= 3:\n",
    "        for k in range(2,m+1):\n",
    "            lis.append(lis[k-1]+lis[k-2])\n",
    "        \n",
    "        for k in range(m+1,n+1): \n",
    "            lis.append(lis[k-1]+lis[k-2]-lis[k-m-1])\n",
    "        return (lis[len(lis)-1])\n",
    "print (fib(15))    \n",
    "      "
   ]
  }
 ],
 "metadata": {
  "kernelspec": {
   "display_name": "Python 3",
   "language": "python",
   "name": "python3"
  },
  "language_info": {
   "codemirror_mode": {
    "name": "ipython",
    "version": 3
   },
   "file_extension": ".py",
   "mimetype": "text/x-python",
   "name": "python",
   "nbconvert_exporter": "python",
   "pygments_lexer": "ipython3",
   "version": "3.6.0"
  }
 },
 "nbformat": 4,
 "nbformat_minor": 2
}
