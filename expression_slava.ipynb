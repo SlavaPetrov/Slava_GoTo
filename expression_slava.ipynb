{
 "cells": [
  {
   "cell_type": "code",
   "execution_count": 110,
   "metadata": {
    "collapsed": false
   },
   "outputs": [],
   "source": [
    "file_name = 'output1.txt'\n",
    "\n",
    "def read(file_name_sam):\n",
    "    file_name = '/Users/vvpetrov/Desktop/gene_counts/genome_annotation.gtf'\n",
    "    with open (file_name) as f:\n",
    "        gene_coord_plus = []\n",
    "        gene_coord_minus = []\n",
    "        for line in f:\n",
    "            gene_info1 = line.strip().split('\\t') \n",
    "            gene_name = gene_info1[8].split('; ')[2].split(' ')[1].strip('\"\"')\n",
    "            strand = gene_info1[6]\n",
    "            if strand == '+':\n",
    "                gene_coord_plus.append([int(gene_info1[3]), int(gene_info1[4]), strand, gene_name])\n",
    "            else:\n",
    "                gene_coord_minus.append([int(gene_info1[3]), int(gene_info1[4]), strand, gene_name])\n",
    "        \n",
    "    with open(file_name_sam) as f1:\n",
    "        counts = {}\n",
    "        for gene in gene_coord_plus:\n",
    "            counts[gene[3]] = 0\n",
    "        for gene in gene_coord_minus:\n",
    "            counts[gene[3]] = 0\n",
    "            \n",
    "        first_gene_plus = 0\n",
    "        first_gene_minus = 0\n",
    "        \n",
    "        for line1 in f1:\n",
    "            if line1[0] == '@':\n",
    "                continue   \n",
    "    \n",
    "            read_flag= line1.strip().split('\\t')  \n",
    "            r = int(read_flag[3])\n",
    "            length = len(read_flag[9])\n",
    "            r1 = r + length\n",
    "            flag = int(read_flag[1])\n",
    "            if flag & 16:\n",
    "                strand_read = '-'\n",
    "            else:\n",
    "                strand_read = '+'\n",
    "            if flag & 4:\n",
    "                continue\n",
    "\n",
    "            if strand_read == '+':\n",
    "                while first_gene_plus < len(gene_coord_plus):\n",
    "                    current_gene = gene_coord_plus[first_gene_plus]\n",
    "                    if r1 < current_gene[0]:\n",
    "                        break\n",
    "                    if (r >= current_gene[0] and r <= current_gene[1]) or (r1 >= current_gene[0] and r1 <= current_gene[1]):\n",
    "                        counts[current_gene[3]] += 1\n",
    "                        break\n",
    "                    if r > current_gene[1]:\n",
    "                        first_gene_plus += 1\n",
    "              \n",
    "            if strand_read == '-':\n",
    "                while first_gene_minus < len(gene_coord_minus):\n",
    "                    current_gene = gene_coord_minus[first_gene_minus]\n",
    "                    if r1 < current_gene[0]:\n",
    "                        break\n",
    "                    if (r >= current_gene[0] and r <= current_gene[1]) or (r1 >= current_gene[0] and r1 <= current_gene[1]):\n",
    "                        counts[current_gene[3]] += 1\n",
    "                        break\n",
    "                    if r > current_gene[1]:\n",
    "                        first_gene_minus += 1\n",
    "    return counts\n",
    "\n",
    "            \n",
    "nor_counts = read('/Users/vvpetrov/Desktop/gene_counts/TNOR2_22.sam')\n",
    "hyp_counts = read('/Users/vvpetrov/Desktop/gene_counts/THYP2_22.sam')\n",
    "\n",
    "with open(\"/Users/vvpetrov/Desktop/Python_Bio/output1.txt\", 'w') as out:\n",
    "    for current_gene in nor_counts:\n",
    "        print(current_gene, nor_counts[current_gene], hyp_counts[current_gene], sep = '\\t', file = out)\n",
    "\n",
    "        \n",
    " \n",
    "        \n",
    "        \n",
    "        \n"
   ]
  },
  {
   "cell_type": "code",
   "execution_count": null,
   "metadata": {
    "collapsed": true
   },
   "outputs": [],
   "source": []
  },
  {
   "cell_type": "code",
   "execution_count": null,
   "metadata": {
    "collapsed": true
   },
   "outputs": [],
   "source": []
  }
 ],
 "metadata": {
  "kernelspec": {
   "display_name": "Python 3",
   "language": "python",
   "name": "python3"
  },
  "language_info": {
   "codemirror_mode": {
    "name": "ipython",
    "version": 3
   },
   "file_extension": ".py",
   "mimetype": "text/x-python",
   "name": "python",
   "nbconvert_exporter": "python",
   "pygments_lexer": "ipython3",
   "version": "3.6.0"
  }
 },
 "nbformat": 4,
 "nbformat_minor": 2
}
